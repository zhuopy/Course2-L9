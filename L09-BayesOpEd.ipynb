{
 "cells": [
  {
   "cell_type": "markdown",
   "metadata": {},
   "source": [
    "# L09\n",
    "## Author-Zhuoyu Peng\n",
    "### Instructions\n",
    "\n",
    "Please complete the lab exercise for this week before following these steps to complete your assignment.\n",
    "\n",
    "1. Leverage Naïve Bayes algorithm to classify build a model using the data from previous milestones.\n",
    "2. Briefly summarize your findings on using Naïve Bayes.\n",
    "3. Is Naïve Bayes more accurate than the regression model you used in Milestone 3?"
   ]
  },
  {
   "cell_type": "code",
   "execution_count": 1,
   "metadata": {},
   "outputs": [],
   "source": [
    "# Load necessary libraries\n",
    "import pandas as pd\n",
    "import matplotlib.pyplot as plt\n",
    "import numpy as np"
   ]
  },
  {
   "cell_type": "markdown",
   "metadata": {},
   "source": [
    "Data are obtained from https://www.kaggle.com/snehal1405/yellow-stone-national-park\n",
    "#####  \"The purpose of possible analysis of this dataset is to propose and inspect the factors that may influence people’s visits to Yellowstone over years, such as weather and climate, travel costs, other macroeconomic factors, and so on.\""
   ]
  },
  {
   "cell_type": "code",
   "execution_count": 2,
   "metadata": {},
   "outputs": [],
   "source": [
    "file = 'datasets_25763_32828_ysnp.csv'\n",
    "df = pd.read_csv(file)"
   ]
  },
  {
   "cell_type": "code",
   "execution_count": 3,
   "metadata": {},
   "outputs": [
    {
     "data": {
      "text/html": [
       "<div>\n",
       "<style scoped>\n",
       "    .dataframe tbody tr th:only-of-type {\n",
       "        vertical-align: middle;\n",
       "    }\n",
       "\n",
       "    .dataframe tbody tr th {\n",
       "        vertical-align: top;\n",
       "    }\n",
       "\n",
       "    .dataframe thead th {\n",
       "        text-align: right;\n",
       "    }\n",
       "</style>\n",
       "<table border=\"1\" class=\"dataframe\">\n",
       "  <thead>\n",
       "    <tr style=\"text-align: right;\">\n",
       "      <th></th>\n",
       "      <th>Recreation Visits</th>\n",
       "      <th>LowestTemperature(F)</th>\n",
       "      <th>HighestTemperature(F)</th>\n",
       "      <th>WarmestMinimumTemperature(F)</th>\n",
       "      <th>ColdestMaximumTemperature(F)</th>\n",
       "    </tr>\n",
       "  </thead>\n",
       "  <tbody>\n",
       "    <tr>\n",
       "      <th>0</th>\n",
       "      <td>30621</td>\n",
       "      <td>-17.0</td>\n",
       "      <td>37.0</td>\n",
       "      <td>23.0</td>\n",
       "      <td>10.0</td>\n",
       "    </tr>\n",
       "    <tr>\n",
       "      <th>1</th>\n",
       "      <td>28091</td>\n",
       "      <td>-17.0</td>\n",
       "      <td>42.0</td>\n",
       "      <td>27.0</td>\n",
       "      <td>2.0</td>\n",
       "    </tr>\n",
       "    <tr>\n",
       "      <th>2</th>\n",
       "      <td>26778</td>\n",
       "      <td>-19.0</td>\n",
       "      <td>41.0</td>\n",
       "      <td>26.0</td>\n",
       "      <td>5.0</td>\n",
       "    </tr>\n",
       "    <tr>\n",
       "      <th>3</th>\n",
       "      <td>24699</td>\n",
       "      <td>-22.0</td>\n",
       "      <td>43.0</td>\n",
       "      <td>30.0</td>\n",
       "      <td>6.0</td>\n",
       "    </tr>\n",
       "    <tr>\n",
       "      <th>4</th>\n",
       "      <td>24766</td>\n",
       "      <td>-14.0</td>\n",
       "      <td>41.0</td>\n",
       "      <td>28.0</td>\n",
       "      <td>14.0</td>\n",
       "    </tr>\n",
       "  </tbody>\n",
       "</table>\n",
       "</div>"
      ],
      "text/plain": [
       "   Recreation Visits  LowestTemperature(F)  HighestTemperature(F)  \\\n",
       "0              30621                 -17.0                   37.0   \n",
       "1              28091                 -17.0                   42.0   \n",
       "2              26778                 -19.0                   41.0   \n",
       "3              24699                 -22.0                   43.0   \n",
       "4              24766                 -14.0                   41.0   \n",
       "\n",
       "   WarmestMinimumTemperature(F)  ColdestMaximumTemperature(F)  \n",
       "0                          23.0                          10.0  \n",
       "1                          27.0                           2.0  \n",
       "2                          26.0                           5.0  \n",
       "3                          30.0                           6.0  \n",
       "4                          28.0                          14.0  "
      ]
     },
     "execution_count": 3,
     "metadata": {},
     "output_type": "execute_result"
    }
   ],
   "source": [
    "df.iloc[::,:5].head() "
   ]
  },
  {
   "cell_type": "markdown",
   "metadata": {},
   "source": [
    "Showing the first five columns of the data, to have a brief idea what data are in the data set. "
   ]
  },
  {
   "cell_type": "code",
   "execution_count": 4,
   "metadata": {},
   "outputs": [
    {
     "data": {
      "text/plain": [
       "Index(['Recreation Visits', 'LowestTemperature(F)', 'HighestTemperature(F)',\n",
       "       'WarmestMinimumTemperature(F)', 'ColdestMaximumTemperature(F)',\n",
       "       'AverageMinimumTemperature(F)', 'AverageMaximumTemperature(F)',\n",
       "       'MeanTemperature(F)', 'TotalPrecipitation(In)', 'TotalSnowfall(In)',\n",
       "       'Max 24hrPrecipitation(In)', 'Max 24hrSnowfall(In)', 'Year/Month/Day',\n",
       "       '3month Percent Change Airfare Costs',\n",
       "       '3month Percent Change Food Away From Home Costs',\n",
       "       '3month Percent Change Gasoline Costs',\n",
       "       '3month Percent Change Jet Fuel Costs', 'Consumer Price Index',\n",
       "       'Consumer Sentiment Index', 'Unemployment Rate'],\n",
       "      dtype='object')"
      ]
     },
     "execution_count": 4,
     "metadata": {},
     "output_type": "execute_result"
    }
   ],
   "source": [
    "df.columns"
   ]
  },
  {
   "cell_type": "markdown",
   "metadata": {},
   "source": [
    "Using `columns`, we can more clearly see whe whole data set."
   ]
  },
  {
   "cell_type": "code",
   "execution_count": 5,
   "metadata": {},
   "outputs": [
    {
     "data": {
      "text/plain": [
       "(372, 20)"
      ]
     },
     "execution_count": 5,
     "metadata": {},
     "output_type": "execute_result"
    }
   ],
   "source": [
    "df.shape"
   ]
  },
  {
   "cell_type": "markdown",
   "metadata": {},
   "source": [
    "Data has 372 observations, and 20 attributes in total."
   ]
  },
  {
   "cell_type": "code",
   "execution_count": 6,
   "metadata": {},
   "outputs": [
    {
     "data": {
      "text/plain": [
       "Recreation Visits                                    int64\n",
       "LowestTemperature(F)                               float64\n",
       "HighestTemperature(F)                              float64\n",
       "WarmestMinimumTemperature(F)                       float64\n",
       "ColdestMaximumTemperature(F)                       float64\n",
       "AverageMinimumTemperature(F)                       float64\n",
       "AverageMaximumTemperature(F)                       float64\n",
       "MeanTemperature(F)                                 float64\n",
       "TotalPrecipitation(In)                             float64\n",
       "TotalSnowfall(In)                                  float64\n",
       "Max 24hrPrecipitation(In)                          float64\n",
       "Max 24hrSnowfall(In)                               float64\n",
       "Year/Month/Day                                      object\n",
       "3month Percent Change Airfare Costs                float64\n",
       "3month Percent Change Food Away From Home Costs    float64\n",
       "3month Percent Change Gasoline Costs               float64\n",
       "3month Percent Change Jet Fuel Costs               float64\n",
       "Consumer Price Index                               float64\n",
       "Consumer Sentiment Index                           float64\n",
       "Unemployment Rate                                  float64\n",
       "dtype: object"
      ]
     },
     "execution_count": 6,
     "metadata": {},
     "output_type": "execute_result"
    }
   ],
   "source": [
    "df.dtypes"
   ]
  },
  {
   "cell_type": "markdown",
   "metadata": {},
   "source": [
    "Naïve Bayes model requires categorical data, so we need to change to categorical data. But let's select out some features first since some of them are simialr. \n",
    "\n",
    "Selected features: MeanTemperature, TotalPrecipitation, TotalSnowFall, Year/Month/Day, Consumer Price Index, and Consumer Sentiment Index\n",
    "\n",
    "Next, we need to categorize and encode each one.\n",
    "\n",
    "Let's do MeanTemperature first."
   ]
  },
  {
   "cell_type": "code",
   "execution_count": 7,
   "metadata": {},
   "outputs": [
    {
     "name": "stdout",
     "output_type": "stream",
     "text": [
      "Median of MeanTemp: 37.8\n"
     ]
    }
   ],
   "source": [
    "#calculate the mean of MeanTemp \n",
    "print('Median of MeanTemp:', df['MeanTemperature(F)'].median())"
   ]
  },
  {
   "cell_type": "markdown",
   "metadata": {},
   "source": [
    "37.8F is the median of MeanTemp, we can group temperature below and include 38 as \"low\", and temperature beyond 38 as \"high\""
   ]
  },
  {
   "cell_type": "code",
   "execution_count": 8,
   "metadata": {},
   "outputs": [],
   "source": [
    "#select MeanTemperature lower and equal than 38.0 as replace \"low\"\n",
    "low = df['MeanTemperature(F)'] <= 38.0\n",
    "#select MeanTemperature greater than 38.0 as replace \"high\"\n",
    "high = df['MeanTemperature(F)'] > 38.0\n",
    "df.loc[low, 'MeanTemperature(F)'] = 'low'\n",
    "df.loc[high, 'MeanTemperature(F)'] = 'high'"
   ]
  },
  {
   "cell_type": "markdown",
   "metadata": {},
   "source": [
    "Group TotalPrecipitation into category"
   ]
  },
  {
   "cell_type": "code",
   "execution_count": 9,
   "metadata": {},
   "outputs": [
    {
     "name": "stdout",
     "output_type": "stream",
     "text": [
      "Median of total precipitation: 1.2\n"
     ]
    }
   ],
   "source": [
    "#calculate the mean the Total Precipitation\n",
    "print('Median of total precipitation:', df['TotalPrecipitation(In)'].median())"
   ]
  },
  {
   "cell_type": "markdown",
   "metadata": {},
   "source": [
    "1.2 inch is the median of total precipitation, we can group precipitation below and include 1.2 as \"low\", and beyond 1.2 as \"high\""
   ]
  },
  {
   "cell_type": "code",
   "execution_count": 10,
   "metadata": {},
   "outputs": [],
   "source": [
    "#select total precipitation lower and equal than 1.2 as replace \"low\"\n",
    "low = df['TotalPrecipitation(In)'] <= 1.2\n",
    "#select total precipitation greater than 1.2 as replace \"high\"\n",
    "high = df['TotalPrecipitation(In)'] > 1.2\n",
    "df.loc[low, 'TotalPrecipitation(In)'] = 'low'\n",
    "df.loc[high, 'TotalPrecipitation(In)'] = 'high'"
   ]
  },
  {
   "cell_type": "markdown",
   "metadata": {},
   "source": [
    "Group TotalSnowFall into category"
   ]
  },
  {
   "cell_type": "code",
   "execution_count": 11,
   "metadata": {},
   "outputs": [
    {
     "name": "stdout",
     "output_type": "stream",
     "text": [
      "Median of total snow fall: 4.5\n"
     ]
    }
   ],
   "source": [
    "#calculate the mean the Totalsnow fall\n",
    "print('Median of total snow fall:', df['TotalSnowfall(In)'].median())"
   ]
  },
  {
   "cell_type": "markdown",
   "metadata": {},
   "source": [
    "4.5 inch is the median of total precipitation, we can group snowfall below and include 4.5 as \"low\", and beyond 4.5 as \"high\""
   ]
  },
  {
   "cell_type": "code",
   "execution_count": 12,
   "metadata": {},
   "outputs": [],
   "source": [
    "#select total snowfall lower and equal than 4.5 as replace \"low\"\n",
    "low = df['TotalSnowfall(In)'] <= 4.5\n",
    "#select total snowfall greater than 4.5 as replace \"high\"\n",
    "high = df['TotalSnowfall(In)'] > 4.5\n",
    "df.loc[low, 'TotalSnowfall(In)'] = 'low'\n",
    "df.loc[high, 'TotalSnowfall(In)'] = 'high'"
   ]
  },
  {
   "cell_type": "markdown",
   "metadata": {},
   "source": [
    "Group consumer price index into category"
   ]
  },
  {
   "cell_type": "code",
   "execution_count": 13,
   "metadata": {},
   "outputs": [
    {
     "name": "stdout",
     "output_type": "stream",
     "text": [
      "Median of comsumer price index: 0.2\n"
     ]
    }
   ],
   "source": [
    "#calculate the mean the consumer price index\n",
    "print('Median of comsumer price index:', df['Consumer Price Index'].median())"
   ]
  },
  {
   "cell_type": "markdown",
   "metadata": {},
   "source": [
    "0.2 inch is the median of consumer price index, we can group price index below and include 0.2 as \"low\", and beyond 0.2 as \"high\""
   ]
  },
  {
   "cell_type": "code",
   "execution_count": 14,
   "metadata": {},
   "outputs": [],
   "source": [
    "#select price index lower and equal than 0.2 as replace \"low\"\n",
    "low = df['Consumer Price Index'] <= 0.2\n",
    "#select price index greater than 0.2 as replace \"high\"\n",
    "high = df['Consumer Price Index'] > 0.2\n",
    "df.loc[low, 'Consumer Price Index'] = 'low'\n",
    "df.loc[high, 'Consumer Price Index'] = 'high'"
   ]
  },
  {
   "cell_type": "markdown",
   "metadata": {},
   "source": [
    "Group consumer semtiment index into category"
   ]
  },
  {
   "cell_type": "code",
   "execution_count": 15,
   "metadata": {},
   "outputs": [
    {
     "name": "stdout",
     "output_type": "stream",
     "text": [
      "Median of sentiment price index: 90.1\n"
     ]
    }
   ],
   "source": [
    "#calculate the mean the sentiment index\n",
    "print('Median of sentiment price index:', df['Consumer Sentiment Index'].median())"
   ]
  },
  {
   "cell_type": "markdown",
   "metadata": {},
   "source": [
    "90.1 inch is the median of consumer sentiment index, we can group sentiment index below and include 90.1 as \"low\", and beyond 90.1 as \"high\""
   ]
  },
  {
   "cell_type": "code",
   "execution_count": 16,
   "metadata": {},
   "outputs": [],
   "source": [
    "#select sentiment index lower and equal than 90.1 as replace \"low\"\n",
    "low = df['Consumer Sentiment Index'] <= 90.1\n",
    "#select sentiment index greater than 90.1 as replace \"high\"\n",
    "high = df['Consumer Sentiment Index'] > 90.1\n",
    "df.loc[low, 'Consumer Sentiment Index'] = 'low'\n",
    "df.loc[high, 'Consumer Sentiment Index'] = 'high'"
   ]
  },
  {
   "cell_type": "markdown",
   "metadata": {},
   "source": [
    "Create a dataframe that only contains selected featueres. "
   ]
  },
  {
   "cell_type": "code",
   "execution_count": 17,
   "metadata": {},
   "outputs": [
    {
     "data": {
      "text/html": [
       "<div>\n",
       "<style scoped>\n",
       "    .dataframe tbody tr th:only-of-type {\n",
       "        vertical-align: middle;\n",
       "    }\n",
       "\n",
       "    .dataframe tbody tr th {\n",
       "        vertical-align: top;\n",
       "    }\n",
       "\n",
       "    .dataframe thead th {\n",
       "        text-align: right;\n",
       "    }\n",
       "</style>\n",
       "<table border=\"1\" class=\"dataframe\">\n",
       "  <thead>\n",
       "    <tr style=\"text-align: right;\">\n",
       "      <th></th>\n",
       "      <th>Recreation Visits</th>\n",
       "      <th>MeanTemperature(F)</th>\n",
       "      <th>TotalPrecipitation(In)</th>\n",
       "      <th>TotalSnowfall(In)</th>\n",
       "      <th>Year/Month/Day</th>\n",
       "      <th>Consumer Price Index</th>\n",
       "      <th>Consumer Sentiment Index</th>\n",
       "    </tr>\n",
       "  </thead>\n",
       "  <tbody>\n",
       "    <tr>\n",
       "      <th>0</th>\n",
       "      <td>30621</td>\n",
       "      <td>low</td>\n",
       "      <td>low</td>\n",
       "      <td>high</td>\n",
       "      <td>2016/1/1</td>\n",
       "      <td>low</td>\n",
       "      <td>high</td>\n",
       "    </tr>\n",
       "    <tr>\n",
       "      <th>1</th>\n",
       "      <td>28091</td>\n",
       "      <td>low</td>\n",
       "      <td>low</td>\n",
       "      <td>high</td>\n",
       "      <td>2015/1/1</td>\n",
       "      <td>low</td>\n",
       "      <td>high</td>\n",
       "    </tr>\n",
       "    <tr>\n",
       "      <th>2</th>\n",
       "      <td>26778</td>\n",
       "      <td>low</td>\n",
       "      <td>high</td>\n",
       "      <td>high</td>\n",
       "      <td>2014/1/1</td>\n",
       "      <td>high</td>\n",
       "      <td>low</td>\n",
       "    </tr>\n",
       "    <tr>\n",
       "      <th>3</th>\n",
       "      <td>24699</td>\n",
       "      <td>low</td>\n",
       "      <td>low</td>\n",
       "      <td>high</td>\n",
       "      <td>2013/1/1</td>\n",
       "      <td>high</td>\n",
       "      <td>low</td>\n",
       "    </tr>\n",
       "    <tr>\n",
       "      <th>4</th>\n",
       "      <td>24766</td>\n",
       "      <td>low</td>\n",
       "      <td>low</td>\n",
       "      <td>high</td>\n",
       "      <td>2012/1/1</td>\n",
       "      <td>high</td>\n",
       "      <td>low</td>\n",
       "    </tr>\n",
       "  </tbody>\n",
       "</table>\n",
       "</div>"
      ],
      "text/plain": [
       "   Recreation Visits MeanTemperature(F) TotalPrecipitation(In)  \\\n",
       "0              30621                low                    low   \n",
       "1              28091                low                    low   \n",
       "2              26778                low                   high   \n",
       "3              24699                low                    low   \n",
       "4              24766                low                    low   \n",
       "\n",
       "  TotalSnowfall(In) Year/Month/Day Consumer Price Index  \\\n",
       "0              high       2016/1/1                  low   \n",
       "1              high       2015/1/1                  low   \n",
       "2              high       2014/1/1                 high   \n",
       "3              high       2013/1/1                 high   \n",
       "4              high       2012/1/1                 high   \n",
       "\n",
       "  Consumer Sentiment Index  \n",
       "0                     high  \n",
       "1                     high  \n",
       "2                      low  \n",
       "3                      low  \n",
       "4                      low  "
      ]
     },
     "execution_count": 17,
     "metadata": {},
     "output_type": "execute_result"
    }
   ],
   "source": [
    "new_df = df[['Recreation Visits','MeanTemperature(F)','TotalPrecipitation(In)','TotalSnowfall(In)', 'Year/Month/Day', \n",
    "           'Consumer Price Index', 'Consumer Sentiment Index']]\n",
    "new_df.head()"
   ]
  },
  {
   "cell_type": "markdown",
   "metadata": {},
   "source": [
    "Next, encode each category, except date first."
   ]
  },
  {
   "cell_type": "code",
   "execution_count": 18,
   "metadata": {},
   "outputs": [],
   "source": [
    "# Construct new categorical variables (encoding)\n",
    "cat_list=['MeanTemperature(F)','TotalPrecipitation(In)','TotalSnowfall(In)', \n",
    "           'Consumer Price Index', 'Consumer Sentiment Index']\n",
    "new_df = pd.get_dummies(new_df, columns= cat_list)"
   ]
  },
  {
   "cell_type": "markdown",
   "metadata": {},
   "source": [
    "Next, we need take care of dates. Only months matter, so we extract month"
   ]
  },
  {
   "cell_type": "code",
   "execution_count": 19,
   "metadata": {},
   "outputs": [],
   "source": [
    "#Constrcut new date variable, named Month\n",
    "new_df['Month'] = ['Jan', 'Feb', 'Mar', 'Apr', 'May', 'Jun', 'Jul', \n",
    "               'Aug', 'Sep', 'Oct', 'Nov', 'Dec'] *int(len(df)/12)\n",
    "\n",
    "new_df = pd.get_dummies(new_df, columns = ['Month'])\n",
    "new_df.drop(['Year/Month/Day'], axis= 1, inplace=True)"
   ]
  },
  {
   "cell_type": "markdown",
   "metadata": {},
   "source": [
    "Finally, we also need to encode the target labels Recreation Visits"
   ]
  },
  {
   "cell_type": "code",
   "execution_count": 20,
   "metadata": {},
   "outputs": [
    {
     "data": {
      "text/plain": [
       "55627.5"
      ]
     },
     "execution_count": 20,
     "metadata": {},
     "output_type": "execute_result"
    }
   ],
   "source": [
    "new_df['Recreation Visits'].median()"
   ]
  },
  {
   "cell_type": "markdown",
   "metadata": {},
   "source": [
    "55627.5  inch is the median of recreation visits, we can group recreation visit below and include 55627.5 as \"low\", and beyond 55627.5 as \"high\""
   ]
  },
  {
   "cell_type": "code",
   "execution_count": 21,
   "metadata": {},
   "outputs": [],
   "source": [
    "#select Recreation Visits lower and equal than 0.2 as replace \"low\"\n",
    "low = new_df['Recreation Visits'] <= 55627.5\n",
    "#select Recreation Visits greater than 0.2 as replace \"high\"\n",
    "high = new_df['Recreation Visits'] > 55627.5\n",
    "new_df.loc[low, 'Recreation Visits'] = 'low'\n",
    "new_df.loc[high, 'Recreation Visits'] = 'high'"
   ]
  },
  {
   "cell_type": "code",
   "execution_count": 22,
   "metadata": {},
   "outputs": [],
   "source": [
    "# le = preprocessing.LabelEncoder()\n",
    "# new_df['Recreation Visits'] = le.fit_transform(new_df['Recreation Visits'])"
   ]
  },
  {
   "cell_type": "code",
   "execution_count": 23,
   "metadata": {},
   "outputs": [
    {
     "data": {
      "text/html": [
       "<div>\n",
       "<style scoped>\n",
       "    .dataframe tbody tr th:only-of-type {\n",
       "        vertical-align: middle;\n",
       "    }\n",
       "\n",
       "    .dataframe tbody tr th {\n",
       "        vertical-align: top;\n",
       "    }\n",
       "\n",
       "    .dataframe thead th {\n",
       "        text-align: right;\n",
       "    }\n",
       "</style>\n",
       "<table border=\"1\" class=\"dataframe\">\n",
       "  <thead>\n",
       "    <tr style=\"text-align: right;\">\n",
       "      <th></th>\n",
       "      <th>Recreation Visits</th>\n",
       "      <th>MeanTemperature(F)_high</th>\n",
       "      <th>MeanTemperature(F)_low</th>\n",
       "      <th>TotalPrecipitation(In)_high</th>\n",
       "      <th>TotalPrecipitation(In)_low</th>\n",
       "    </tr>\n",
       "  </thead>\n",
       "  <tbody>\n",
       "    <tr>\n",
       "      <th>0</th>\n",
       "      <td>low</td>\n",
       "      <td>0</td>\n",
       "      <td>1</td>\n",
       "      <td>0</td>\n",
       "      <td>1</td>\n",
       "    </tr>\n",
       "    <tr>\n",
       "      <th>1</th>\n",
       "      <td>low</td>\n",
       "      <td>0</td>\n",
       "      <td>1</td>\n",
       "      <td>0</td>\n",
       "      <td>1</td>\n",
       "    </tr>\n",
       "    <tr>\n",
       "      <th>2</th>\n",
       "      <td>low</td>\n",
       "      <td>0</td>\n",
       "      <td>1</td>\n",
       "      <td>1</td>\n",
       "      <td>0</td>\n",
       "    </tr>\n",
       "    <tr>\n",
       "      <th>3</th>\n",
       "      <td>low</td>\n",
       "      <td>0</td>\n",
       "      <td>1</td>\n",
       "      <td>0</td>\n",
       "      <td>1</td>\n",
       "    </tr>\n",
       "    <tr>\n",
       "      <th>4</th>\n",
       "      <td>low</td>\n",
       "      <td>0</td>\n",
       "      <td>1</td>\n",
       "      <td>0</td>\n",
       "      <td>1</td>\n",
       "    </tr>\n",
       "  </tbody>\n",
       "</table>\n",
       "</div>"
      ],
      "text/plain": [
       "  Recreation Visits  MeanTemperature(F)_high  MeanTemperature(F)_low  \\\n",
       "0               low                        0                       1   \n",
       "1               low                        0                       1   \n",
       "2               low                        0                       1   \n",
       "3               low                        0                       1   \n",
       "4               low                        0                       1   \n",
       "\n",
       "   TotalPrecipitation(In)_high  TotalPrecipitation(In)_low  \n",
       "0                            0                           1  \n",
       "1                            0                           1  \n",
       "2                            1                           0  \n",
       "3                            0                           1  \n",
       "4                            0                           1  "
      ]
     },
     "execution_count": 23,
     "metadata": {},
     "output_type": "execute_result"
    }
   ],
   "source": [
    "new_df.iloc[::,:5].head()"
   ]
  },
  {
   "cell_type": "markdown",
   "metadata": {},
   "source": [
    "Finally, take a brief looka at our data, which should be ready for modeling."
   ]
  },
  {
   "cell_type": "markdown",
   "metadata": {},
   "source": [
    "First, we meed to split the data set into training and testing set."
   ]
  },
  {
   "cell_type": "code",
   "execution_count": 24,
   "metadata": {},
   "outputs": [],
   "source": [
    "from sklearn.model_selection import train_test_split\n",
    "#select feature columns\n",
    "feature = new_df.columns.values.tolist()[1:]\n",
    "#split dataset into training and testing \n",
    "X_train, X_test, y_train, y_test = train_test_split(new_df[feature],new_df['Recreation Visits'])"
   ]
  },
  {
   "cell_type": "code",
   "execution_count": 25,
   "metadata": {},
   "outputs": [
    {
     "data": {
      "text/plain": [
       "BernoulliNB(alpha=1.0, binarize=0.0, class_prior=None, fit_prior=True)"
      ]
     },
     "execution_count": 25,
     "metadata": {},
     "output_type": "execute_result"
    }
   ],
   "source": [
    "from sklearn.naive_bayes import BernoulliNB\n",
    "# Define the model\n",
    "model = BernoulliNB()\n",
    "# Train the model with our votes dataset\n",
    "model.fit(X_train, y_train)"
   ]
  },
  {
   "cell_type": "code",
   "execution_count": 26,
   "metadata": {},
   "outputs": [],
   "source": [
    "#predict the test data set\n",
    "y_pred = model.predict(X_test)\n",
    "\n",
    "#create a new data dataframe to store prediction and true values\n",
    "result = pd.DataFrame ({'y_pre': y_pred,\n",
    "         'true value': y_test})"
   ]
  },
  {
   "cell_type": "code",
   "execution_count": 27,
   "metadata": {},
   "outputs": [
    {
     "data": {
      "text/html": [
       "<div>\n",
       "<style scoped>\n",
       "    .dataframe tbody tr th:only-of-type {\n",
       "        vertical-align: middle;\n",
       "    }\n",
       "\n",
       "    .dataframe tbody tr th {\n",
       "        vertical-align: top;\n",
       "    }\n",
       "\n",
       "    .dataframe thead th {\n",
       "        text-align: right;\n",
       "    }\n",
       "</style>\n",
       "<table border=\"1\" class=\"dataframe\">\n",
       "  <thead>\n",
       "    <tr style=\"text-align: right;\">\n",
       "      <th></th>\n",
       "      <th>y_pre</th>\n",
       "      <th>true value</th>\n",
       "    </tr>\n",
       "  </thead>\n",
       "  <tbody>\n",
       "    <tr>\n",
       "      <th>314</th>\n",
       "      <td>low</td>\n",
       "      <td>low</td>\n",
       "    </tr>\n",
       "    <tr>\n",
       "      <th>55</th>\n",
       "      <td>low</td>\n",
       "      <td>low</td>\n",
       "    </tr>\n",
       "    <tr>\n",
       "      <th>295</th>\n",
       "      <td>high</td>\n",
       "      <td>high</td>\n",
       "    </tr>\n",
       "    <tr>\n",
       "      <th>279</th>\n",
       "      <td>high</td>\n",
       "      <td>high</td>\n",
       "    </tr>\n",
       "    <tr>\n",
       "      <th>360</th>\n",
       "      <td>low</td>\n",
       "      <td>low</td>\n",
       "    </tr>\n",
       "  </tbody>\n",
       "</table>\n",
       "</div>"
      ],
      "text/plain": [
       "    y_pre true value\n",
       "314   low        low\n",
       "55    low        low\n",
       "295  high       high\n",
       "279  high       high\n",
       "360   low        low"
      ]
     },
     "execution_count": 27,
     "metadata": {},
     "output_type": "execute_result"
    }
   ],
   "source": [
    "result.head()"
   ]
  },
  {
   "cell_type": "markdown",
   "metadata": {},
   "source": [
    "As you examine these results notice:\n",
    "\n",
    "There is one mispredict value.\n",
    "\n",
    "Let's calculate accuracy."
   ]
  },
  {
   "cell_type": "code",
   "execution_count": 28,
   "metadata": {},
   "outputs": [],
   "source": [
    "#change data type to categorical data for later accuracy calculation \n",
    "result['y_pre']= result['y_pre'].astype('category')\n",
    "result['true value']= result['true value'].astype('category')"
   ]
  },
  {
   "cell_type": "code",
   "execution_count": 29,
   "metadata": {},
   "outputs": [
    {
     "name": "stdout",
     "output_type": "stream",
     "text": [
      "TP': 45 FP: 4 FN: 6 TP: 38\n"
     ]
    }
   ],
   "source": [
    "from sklearn.metrics import confusion_matrix\n",
    "from sklearn.metrics import recall_score\n",
    "from sklearn.metrics import precision_score\n",
    "from sklearn.metrics import f1_score\n",
    "#calculate the confusion matrix\n",
    "tn, fp, fn, tp = confusion_matrix(result['true value'], result['y_pre']).ravel()\n",
    "print(\"TP':\", tn,\"FP:\", fp, \"FN:\", fn, \"TP:\",tp)"
   ]
  },
  {
   "cell_type": "markdown",
   "metadata": {},
   "source": [
    "Both true positive and true negative is high, suggesting that model is quite good."
   ]
  },
  {
   "cell_type": "code",
   "execution_count": 30,
   "metadata": {},
   "outputs": [
    {
     "name": "stdout",
     "output_type": "stream",
     "text": [
      "precision score: 0.905\n"
     ]
    }
   ],
   "source": [
    "pre_score = precision_score(result['true value'].cat.codes, result['y_pre'].cat.codes)\n",
    "print('precision score: %.3f'%pre_score)"
   ]
  },
  {
   "cell_type": "code",
   "execution_count": 31,
   "metadata": {},
   "outputs": [
    {
     "name": "stdout",
     "output_type": "stream",
     "text": [
      "recall score: 0.864\n"
     ]
    }
   ],
   "source": [
    "recall = recall_score(result['true value'].cat.codes, result['y_pre'].cat.codes)\n",
    "print('recall score: %.3f'% recall)"
   ]
  },
  {
   "cell_type": "code",
   "execution_count": 32,
   "metadata": {},
   "outputs": [
    {
     "name": "stdout",
     "output_type": "stream",
     "text": [
      "f1 score: 0.864\n"
     ]
    }
   ],
   "source": [
    "f1 = f1_score(result['true value'].cat.codes, result['y_pre'].cat.codes)\n",
    "print('f1 score: %.3f'% recall)"
   ]
  },
  {
   "cell_type": "markdown",
   "metadata": {},
   "source": [
    "All precision, recall and f1 scores are quite good, suggesting that the trained model is good."
   ]
  },
  {
   "cell_type": "markdown",
   "metadata": {},
   "source": [
    "#### Briefly summarize your findings on using Naïve Bayes."
   ]
  },
  {
   "cell_type": "markdown",
   "metadata": {},
   "source": [
    "In this work, I used BernoilliNB as a classifier, which is designed for binary/boolean features. Since  I grouped the target variables to binary, NernoilliNB looks to be a good fit.\n",
    "\n",
    "I used default setting for this classifier, and use 0.75 of original data as trainning data, and 0.25 of the original data as testing data. The resulting model has a good fit based on high precision, recall and f1 scores. \n",
    "\n",
    "I also noticed that another naive bayes model called multinomial is widely used. The multinomial classifier finds the mostly likely class from multiple possibilities, which can be simplified for the Bernoulli or binary case.\n"
   ]
  },
  {
   "cell_type": "markdown",
   "metadata": {},
   "source": [
    "#### Is Naïve Bayes more accurate than the regression model you used in Milestone 3?"
   ]
  },
  {
   "cell_type": "markdown",
   "metadata": {},
   "source": [
    "First, the model I built here is a classification model, the model I built in M3 is a regression model.They are totally different, which is hard to make a comparison between two different models.\n",
    "\n",
    "In M3, I used linear regression to predict the exact visits. But here, I categorized visits into two groups, one is high, and the other is low.The evaliation matrics are different from regression and classification model. In regression model, we can use R2 score and RMSE; while in classification model, recall, precision and f1 scores are used. \n",
    "\n",
    "In M3, R2 is 0.66; while in this work, precision, recall and f1 scores are above 0.9. Although different matrics are not comparable, I'd say this bernoulli naive bayes model is more accurate in classifying the recreation visits."
   ]
  }
 ],
 "metadata": {
  "kernelspec": {
   "display_name": "Python 3",
   "language": "python",
   "name": "python3"
  },
  "language_info": {
   "codemirror_mode": {
    "name": "ipython",
    "version": 3
   },
   "file_extension": ".py",
   "mimetype": "text/x-python",
   "name": "python",
   "nbconvert_exporter": "python",
   "pygments_lexer": "ipython3",
   "version": "3.7.6"
  }
 },
 "nbformat": 4,
 "nbformat_minor": 4
}
